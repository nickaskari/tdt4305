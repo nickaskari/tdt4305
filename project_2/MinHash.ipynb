{
 "cells": [
  {
   "cell_type": "code",
   "execution_count": 375,
   "id": "afe94871",
   "metadata": {},
   "outputs": [],
   "source": [
    "import numpy as np\n",
    "import hashlib"
   ]
  },
  {
   "cell_type": "markdown",
   "id": "6e4f5bf9",
   "metadata": {},
   "source": [
    "Name A: Nick Askari \n",
    "\n",
    "Name B: Simen Peder Stang"
   ]
  },
  {
   "cell_type": "code",
   "execution_count": 376,
   "id": "42d4a72d",
   "metadata": {},
   "outputs": [],
   "source": [
    "#Four (4) 'relevant' TDT4305 sentences\n",
    "\n",
    "Sentence_1 = \"The Big Data platform for students is Blackboard\"\n",
    "Sentence_2 = \"Questions on MinHash project by NTNU students is on Piazza\"\n",
    "Sentence_3 = \"NTNU Big Data platform are Blackboard and Piazza\"\n",
    "Sentence_4 = \"The project data for students are on Blackboard not Piazza\""
   ]
  },
  {
   "cell_type": "code",
   "execution_count": 377,
   "id": "f619be36",
   "metadata": {},
   "outputs": [],
   "source": [
    "# Enter the unique words list here, alphabetically sorted\n",
    "unique_words = ['big', 'blackboard', 'data', 'minhash', 'ntnu', 'piazza', 'platform', 'project', 'questions', 'students']"
   ]
  },
  {
   "cell_type": "code",
   "execution_count": 378,
   "id": "e633fa9c",
   "metadata": {},
   "outputs": [
    {
     "name": "stdout",
     "output_type": "stream",
     "text": [
      "Format: ['word', 'word', 'word' ...] & watch out for white spaces before comma\n",
      "Incorrect! Try again.\n"
     ]
    }
   ],
   "source": [
    "# User input\n",
    "\n",
    "print(f\"Format: ['word', 'word', 'word' ...] & watch out for white spaces before comma\")\n",
    "user_input = str(input(\"Enter your created list of unique words: \")) \n",
    "\n",
    "f = open(\"encrypted_dictionary.txt\", \"r\")\n",
    "encrypted_words = f.read()\n",
    "\n",
    "\n",
    "# Hash the user input\n",
    "hashed_user_input = hashlib.sha256(user_input.encode()).hexdigest()\n",
    "\n",
    "# Compare with the stored hash\n",
    "if hashed_user_input == encrypted_words:\n",
    "    print(\"Correct! Your dictionary matched!\")\n",
    "else:\n",
    "    print(\"Incorrect! Try again.\")"
   ]
  },
  {
   "cell_type": "code",
   "execution_count": 379,
   "id": "0b10d096",
   "metadata": {},
   "outputs": [],
   "source": [
    "# Create an empty array of input matrix\n",
    "Input_Matrix = np.zeros((len(unique_words), 4), dtype=int)"
   ]
  },
  {
   "cell_type": "code",
   "execution_count": 380,
   "id": "3f6a5fa2",
   "metadata": {},
   "outputs": [
    {
     "name": "stdout",
     "output_type": "stream",
     "text": [
      "1:  the big data platform for students is blackboard \n",
      "2:  questions on minhash project by ntnu students is on piazza \n",
      "3:  ntnu big data platform are blackboard and piazza \n",
      "4:  the project data for students are on blackboard not piazza\n"
     ]
    }
   ],
   "source": [
    "Sentence_1, Sentence_2, Sentence_3, Sentence_4 = [sentence.lower()\n",
    "                                                  for sentence in [Sentence_1, Sentence_2, Sentence_3, Sentence_4]]\n",
    "\n",
    "print('1: ', Sentence_1, '\\n2: ', Sentence_2, '\\n3: ', Sentence_3, '\\n4: ', Sentence_4)"
   ]
  },
  {
   "cell_type": "code",
   "execution_count": 381,
   "id": "8b7267f5",
   "metadata": {},
   "outputs": [
    {
     "data": {
      "text/plain": [
       "array([[1, 0, 1, 0],\n",
       "       [1, 0, 1, 1],\n",
       "       [1, 0, 1, 1],\n",
       "       [0, 1, 0, 0],\n",
       "       [0, 1, 1, 0],\n",
       "       [0, 1, 1, 1],\n",
       "       [1, 0, 1, 0],\n",
       "       [0, 1, 0, 1],\n",
       "       [0, 1, 0, 0],\n",
       "       [1, 1, 0, 1]])"
      ]
     },
     "execution_count": 381,
     "metadata": {},
     "output_type": "execute_result"
    }
   ],
   "source": [
    "## Compute the values for the input matrix here ##\n",
    "\n",
    "sentences = [Sentence_1, Sentence_2, Sentence_3, Sentence_4]\n",
    "for i, word in enumerate(unique_words):\n",
    "    for j, sentence in enumerate(sentences):\n",
    "        if word in sentence:\n",
    "            Input_Matrix[i, j] = 1\n",
    "\n",
    "Input_Matrix"
   ]
  },
  {
   "cell_type": "code",
   "execution_count": 382,
   "id": "acf3c3dd",
   "metadata": {},
   "outputs": [
    {
     "data": {
      "text/plain": [
       "array([[inf, inf, inf, inf],\n",
       "       [inf, inf, inf, inf],\n",
       "       [inf, inf, inf, inf]])"
      ]
     },
     "execution_count": 382,
     "metadata": {},
     "output_type": "execute_result"
    }
   ],
   "source": [
    "# Create a MinHash signature matrix array with inf values\n",
    "Sig_M = np.full((3, 4), np.inf)\n",
    "Sig_M"
   ]
  },
  {
   "cell_type": "code",
   "execution_count": 383,
   "id": "145bfafc",
   "metadata": {},
   "outputs": [],
   "source": [
    "# Generate hash functions\n",
    "import random\n",
    "n = len(unique_words)\n",
    "x = random.randint(1, 100)"
   ]
  },
  {
   "cell_type": "code",
   "execution_count": 384,
   "id": "3f799a86",
   "metadata": {},
   "outputs": [],
   "source": [
    "#hash_1 = random.sample(range(1, n + 1), n)\n",
    "\n",
    "hash_1 = []\n",
    "for i in range(1, n + 1):\n",
    "    hash_1.append( ( ( (i + 3) % 10 ) + 1) )"
   ]
  },
  {
   "cell_type": "code",
   "execution_count": 385,
   "id": "0f0195cc",
   "metadata": {},
   "outputs": [],
   "source": [
    "#hash_2 = random.sample(range(1, n + 1), n)\n",
    "\n",
    "hash_2 = []\n",
    "for i in range(1, n + 1):\n",
    "    hash_2.append( ( ( (7 * i + 1) % 10 ) + 1) )"
   ]
  },
  {
   "cell_type": "code",
   "execution_count": 386,
   "id": "4a3c8256",
   "metadata": {},
   "outputs": [],
   "source": [
    "#hash_3 = random.sample(range(1, n + 1), n)\n",
    "\n",
    "hash_3 = []\n",
    "for i in range(1, n + 1):\n",
    "    hash_3.append( ( ( (7 * i + 2) % 10 ) + 1) )"
   ]
  },
  {
   "cell_type": "code",
   "execution_count": 387,
   "id": "e854ba69",
   "metadata": {},
   "outputs": [],
   "source": [
    "hash_list = [hash_1, hash_2, hash_3]"
   ]
  },
  {
   "cell_type": "code",
   "execution_count": 388,
   "id": "06ed6049",
   "metadata": {},
   "outputs": [
    {
     "data": {
      "text/plain": [
       "[[5, 6, 7, 8, 9, 10, 1, 2, 3, 4],\n",
       " [9, 6, 3, 10, 7, 4, 1, 8, 5, 2],\n",
       " [10, 7, 4, 1, 8, 5, 2, 9, 6, 3]]"
      ]
     },
     "execution_count": 388,
     "metadata": {},
     "output_type": "execute_result"
    }
   ],
   "source": [
    "hash_list"
   ]
  },
  {
   "cell_type": "code",
   "execution_count": 389,
   "id": "0ef457d8",
   "metadata": {},
   "outputs": [
    {
     "data": {
      "text/plain": [
       "'\\nhash_list = [\\n    [5, 6, 7, 8, 9, 10, 1, 2, 3, 4],\\n    [9, 6, 3, 10, 7, 4, 1, 8, 5, 2],\\n    [10, 7, 4, 1, 8, 5, 2, 9, 6, 3]\\n    ]\\n'"
      ]
     },
     "execution_count": 389,
     "metadata": {},
     "output_type": "execute_result"
    }
   ],
   "source": [
    "# for usage in part one\n",
    "'''\n",
    "hash_list = [\n",
    "    [5, 6, 7, 8, 9, 10, 1, 2, 3, 4],\n",
    "    [9, 6, 3, 10, 7, 4, 1, 8, 5, 2],\n",
    "    [10, 7, 4, 1, 8, 5, 2, 9, 6, 3]\n",
    "    ]\n",
    "'''"
   ]
  },
  {
   "cell_type": "code",
   "execution_count": 390,
   "id": "a6218bf7",
   "metadata": {},
   "outputs": [],
   "source": [
    "## Using the hash functions and the input matrix compute the MinHash signature matrix here ##\n",
    "\n",
    "for i in range(Sig_M.shape[0]):\n",
    "    for j in range(Sig_M.shape[1]):\n",
    "        for k in range(len(unique_words)):\n",
    "            if Input_Matrix[k, j] == 1:\n",
    "                Sig_M[i, j] = min(Sig_M[i, j], hash_list[i][k])\n"
   ]
  },
  {
   "cell_type": "code",
   "execution_count": 391,
   "id": "56c9d088",
   "metadata": {},
   "outputs": [
    {
     "data": {
      "text/plain": [
       "array([[1, 2, 1, 2],\n",
       "       [1, 2, 1, 2],\n",
       "       [2, 1, 2, 3]])"
      ]
     },
     "execution_count": 391,
     "metadata": {},
     "output_type": "execute_result"
    }
   ],
   "source": [
    "# print the updated MinHash signature matrix\n",
    "\n",
    "Sig_M = Sig_M.astype(int)\n",
    "Sig_M"
   ]
  },
  {
   "cell_type": "code",
   "execution_count": 392,
   "id": "a384606f",
   "metadata": {},
   "outputs": [
    {
     "name": "stdout",
     "output_type": "stream",
     "text": [
      "Jaccard Similarity between Sentence 1 and Sentence 2 is 0.0\n",
      "Jaccard Similarity between Sentence 1 and Sentence 3 is 1.0\n",
      "Jaccard Similarity between Sentence 1 and Sentence 4 is 0.0\n",
      "Jaccard Similarity between Sentence 2 and Sentence 3 is 0.0\n",
      "Jaccard Similarity between Sentence 2 and Sentence 4 is 0.6666666666666666\n",
      "Jaccard Similarity between Sentence 3 and Sentence 4 is 0.0\n"
     ]
    }
   ],
   "source": [
    "def jaccard_similarity(Sig_M, i, j):\n",
    "    return np.sum(Sig_M[:, i] == Sig_M[:, j]) / Sig_M.shape[0]\n",
    "\n",
    "for i in range(Sig_M.shape[1]):\n",
    "    for j in range(i + 1, Sig_M.shape[1]):\n",
    "        print(f\"Jaccard Similarity between Sentence {i + 1} and Sentence {j + 1} is {jaccard_similarity(Sig_M, i, j)}\")"
   ]
  },
  {
   "cell_type": "code",
   "execution_count": 393,
   "id": "51026a1d",
   "metadata": {},
   "outputs": [],
   "source": [
    "import random\n",
    "\n",
    "\n",
    "def next_prime(N):\n",
    "    def is_prime(n):\n",
    "        if n <= 2:\n",
    "            return n == 2\n",
    "        if n % 2 == 0:\n",
    "            return False\n",
    "        p = 3\n",
    "        while p * p <= n:\n",
    "            if n % p == 0:\n",
    "                return False\n",
    "            p += 2\n",
    "        return True\n",
    "\n",
    "    prime = N + 1\n",
    "    while not is_prime(prime):\n",
    "        prime += 1\n",
    "    return prime"
   ]
  },
  {
   "cell_type": "code",
   "execution_count": 394,
   "id": "3e37e4f1",
   "metadata": {},
   "outputs": [
    {
     "data": {
      "text/plain": [
       "11"
      ]
     },
     "execution_count": 394,
     "metadata": {},
     "output_type": "execute_result"
    }
   ],
   "source": [
    "next_prime(len(unique_words))"
   ]
  },
  {
   "cell_type": "code",
   "execution_count": 395,
   "id": "28c0e417",
   "metadata": {},
   "outputs": [],
   "source": [
    "# problem with uniqueness \n",
    "\n",
    "def generate_hash_functions(num_perm, N):\n",
    "    p = next_prime(N)\n",
    "    hash_funcs = []\n",
    "\n",
    "    for i in range(num_perm):\n",
    "        a = random.randint(1, p - 1)\n",
    "        b = random.randint(0, p - 1)\n",
    "        hash_list = [ ((a * x + b) % (p - 1) + 1 ) for x in range(1, N + 1)]\n",
    "        hash_funcs.append(hash_list)\n",
    "\n",
    "    return hash_funcs"
   ]
  },
  {
   "cell_type": "code",
   "execution_count": 396,
   "id": "350edd0a",
   "metadata": {},
   "outputs": [
    {
     "data": {
      "text/plain": [
       "[[4, 5, 6, 7, 8, 9, 10, 1, 2, 3],\n",
       " [1, 1, 1, 1, 1, 1, 1, 1, 1, 1],\n",
       " [8, 3, 8, 3, 8, 3, 8, 3, 8, 3],\n",
       " [2, 8, 4, 10, 6, 2, 8, 4, 10, 6],\n",
       " [2, 3, 4, 5, 6, 7, 8, 9, 10, 1],\n",
       " [10, 5, 10, 5, 10, 5, 10, 5, 10, 5],\n",
       " [6, 10, 4, 8, 2, 6, 10, 4, 8, 2],\n",
       " [5, 2, 9, 6, 3, 10, 7, 4, 1, 8],\n",
       " [2, 3, 4, 5, 6, 7, 8, 9, 10, 1],\n",
       " [9, 4, 9, 4, 9, 4, 9, 4, 9, 4]]"
      ]
     },
     "execution_count": 396,
     "metadata": {},
     "output_type": "execute_result"
    }
   ],
   "source": [
    "funcs = generate_hash_functions(10, len(unique_words))\n",
    "funcs"
   ]
  },
  {
   "cell_type": "code",
   "execution_count": 397,
   "id": "68d71677",
   "metadata": {},
   "outputs": [],
   "source": [
    "# possible solution to the uniqueness problem, just a shuffle\n",
    "\n",
    "def generate_permutations(num_perm, N):\n",
    "    permutations = []\n",
    "\n",
    "    for _ in range(num_perm):\n",
    "        perm = list(range(1, N + 1))\n",
    "        random.shuffle(perm)  # Shuffle the list in-place\n",
    "        permutations.append(perm)\n",
    "\n",
    "    return permutations"
   ]
  },
  {
   "cell_type": "code",
   "execution_count": 398,
   "id": "59d7c22b",
   "metadata": {},
   "outputs": [
    {
     "data": {
      "text/plain": [
       "[[10, 7, 1, 3, 9, 5, 8, 2, 6, 4],\n",
       " [2, 8, 9, 1, 7, 5, 4, 3, 10, 6],\n",
       " [9, 5, 8, 2, 6, 7, 4, 1, 3, 10],\n",
       " [4, 5, 6, 9, 3, 7, 8, 1, 10, 2],\n",
       " [7, 3, 6, 9, 5, 1, 4, 10, 8, 2],\n",
       " [2, 4, 3, 5, 9, 8, 7, 6, 1, 10],\n",
       " [9, 10, 8, 5, 1, 3, 4, 2, 7, 6],\n",
       " [6, 2, 1, 5, 7, 10, 4, 9, 8, 3],\n",
       " [6, 8, 3, 2, 1, 4, 9, 10, 7, 5],\n",
       " [4, 5, 10, 3, 6, 2, 9, 8, 7, 1]]"
      ]
     },
     "execution_count": 398,
     "metadata": {},
     "output_type": "execute_result"
    }
   ],
   "source": [
    "generate_permutations(10, len(unique_words))\n"
   ]
  },
  {
   "cell_type": "code",
   "execution_count": 403,
   "id": "5d97cbe5",
   "metadata": {},
   "outputs": [],
   "source": [
    "def minHash(docs_signature_sets, hash_fn):\n",
    "    min_hash_signatures = []\n",
    "\n",
    "    # columns, number of txt files. Rows are shingles\n",
    "    num_docs = docs_signature_sets.shape[1]\n",
    "    num_permutation = len(hash_fn)\n",
    "    min_hash_signatures = np.full((num_permutation, num_docs), np.inf)\n",
    "\n",
    "    for perm_idx, hash_list in enumerate(hash_fn):\n",
    "        #print('IM HERE 1: ', perm_idx)\n",
    "        for doc_idx in range(num_docs):\n",
    "            for shingle_idx in range(docs_signature_sets.shape[0]):\n",
    "                if docs_signature_sets[shingle_idx, doc_idx] == 1:\n",
    "                    #print('IM HERE 4: ', doc_idx, ', ', shingle_idx)\n",
    "                    min_hash_signatures[perm_idx, doc_idx] = min(\n",
    "                        min_hash_signatures[perm_idx, doc_idx], hash_list[shingle_idx])\n",
    "\n",
    "    return min_hash_signatures"
   ]
  },
  {
   "cell_type": "code",
   "execution_count": 405,
   "id": "f23f6f2e",
   "metadata": {},
   "outputs": [
    {
     "data": {
      "text/plain": [
       "array([[1., 2., 1., 2.],\n",
       "       [1., 2., 1., 2.],\n",
       "       [2., 1., 2., 3.]])"
      ]
     },
     "execution_count": 405,
     "metadata": {},
     "output_type": "execute_result"
    }
   ],
   "source": [
    "docs_signature_sets = Input_Matrix\n",
    "hash_fn = hash_list\n",
    "\n",
    "hashen = minHash(docs_signature_sets, hash_fn)\n",
    "hashen"
   ]
  },
  {
   "cell_type": "code",
   "execution_count": null,
   "id": "a0d96500",
   "metadata": {},
   "outputs": [],
   "source": []
  }
 ],
 "metadata": {
  "kernelspec": {
   "display_name": "myenv",
   "language": "python",
   "name": "myenv"
  },
  "language_info": {
   "codemirror_mode": {
    "name": "ipython",
    "version": 3
   },
   "file_extension": ".py",
   "mimetype": "text/x-python",
   "name": "python",
   "nbconvert_exporter": "python",
   "pygments_lexer": "ipython3",
   "version": "3.9.18"
  }
 },
 "nbformat": 4,
 "nbformat_minor": 5
}
