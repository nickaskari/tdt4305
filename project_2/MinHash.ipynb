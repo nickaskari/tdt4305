{
 "cells": [
  {
   "cell_type": "code",
   "execution_count": 435,
   "id": "afe94871",
   "metadata": {},
   "outputs": [],
   "source": [
    "import numpy as np\n",
    "import hashlib"
   ]
  },
  {
   "cell_type": "markdown",
   "id": "6e4f5bf9",
   "metadata": {},
   "source": [
    "Name A: Nick Askari \n",
    "\n",
    "Name B: Simen Peder Stang"
   ]
  },
  {
   "cell_type": "code",
   "execution_count": 436,
   "id": "42d4a72d",
   "metadata": {},
   "outputs": [],
   "source": [
    "#Four (4) 'relevant' TDT4305 sentences\n",
    "\n",
    "Sentence_1 = \"The Big Data platform for students is Blackboard\"\n",
    "Sentence_2 = \"Questions on MinHash project by NTNU students is on Piazza\"\n",
    "Sentence_3 = \"NTNU Big Data platform are Blackboard and Piazza\"\n",
    "Sentence_4 = \"The project data for students are on Blackboard not Piazza\""
   ]
  },
  {
   "cell_type": "code",
   "execution_count": 437,
   "id": "f619be36",
   "metadata": {},
   "outputs": [],
   "source": [
    "# Enter the unique words list here, alphabetically sorted\n",
    "unique_words = ['big', 'blackboard', 'data', 'minhash', 'ntnu', 'piazza', 'platform', 'project', 'questions', 'students']"
   ]
  },
  {
   "cell_type": "code",
   "execution_count": 438,
   "id": "e633fa9c",
   "metadata": {},
   "outputs": [
    {
     "name": "stdout",
     "output_type": "stream",
     "text": [
      "Format: ['word', 'word', 'word' ...] & watch out for white spaces before comma\n",
      "Correct! Your dictionary matched!\n"
     ]
    }
   ],
   "source": [
    "# User input\n",
    "\n",
    "print(f\"Format: ['word', 'word', 'word' ...] & watch out for white spaces before comma\")\n",
    "user_input = str(input(\"Enter your created list of unique words: \")) \n",
    "\n",
    "f = open(\"encrypted_dictionary.txt\", \"r\")\n",
    "encrypted_words = f.read()\n",
    "\n",
    "\n",
    "# Hash the user input\n",
    "hashed_user_input = hashlib.sha256(user_input.encode()).hexdigest()\n",
    "\n",
    "# Compare with the stored hash\n",
    "if hashed_user_input == encrypted_words:\n",
    "    print(\"Correct! Your dictionary matched!\")\n",
    "else:\n",
    "    print(\"Incorrect! Try again.\")"
   ]
  },
  {
   "cell_type": "code",
   "execution_count": 439,
   "id": "0b10d096",
   "metadata": {},
   "outputs": [],
   "source": [
    "# Create an empty array of input matrix\n",
    "Input_Matrix = np.zeros((len(unique_words), 4), dtype=int)"
   ]
  },
  {
   "cell_type": "code",
   "execution_count": 440,
   "id": "3f6a5fa2",
   "metadata": {},
   "outputs": [
    {
     "name": "stdout",
     "output_type": "stream",
     "text": [
      "1:  the big data platform for students is blackboard \n",
      "2:  questions on minhash project by ntnu students is on piazza \n",
      "3:  ntnu big data platform are blackboard and piazza \n",
      "4:  the project data for students are on blackboard not piazza\n"
     ]
    }
   ],
   "source": [
    "Sentence_1, Sentence_2, Sentence_3, Sentence_4 = [sentence.lower()\n",
    "                                                  for sentence in [Sentence_1, Sentence_2, Sentence_3, Sentence_4]]\n",
    "\n",
    "print('1: ', Sentence_1, '\\n2: ', Sentence_2, '\\n3: ', Sentence_3, '\\n4: ', Sentence_4)"
   ]
  },
  {
   "cell_type": "code",
   "execution_count": 441,
   "id": "8b7267f5",
   "metadata": {},
   "outputs": [
    {
     "data": {
      "text/plain": [
       "array([[1, 0, 1, 0],\n",
       "       [1, 0, 1, 1],\n",
       "       [1, 0, 1, 1],\n",
       "       [0, 1, 0, 0],\n",
       "       [0, 1, 1, 0],\n",
       "       [0, 1, 1, 1],\n",
       "       [1, 0, 1, 0],\n",
       "       [0, 1, 0, 1],\n",
       "       [0, 1, 0, 0],\n",
       "       [1, 1, 0, 1]])"
      ]
     },
     "execution_count": 441,
     "metadata": {},
     "output_type": "execute_result"
    }
   ],
   "source": [
    "## Compute the values for the input matrix here ##\n",
    "\n",
    "sentences = [Sentence_1, Sentence_2, Sentence_3, Sentence_4]\n",
    "for i, word in enumerate(unique_words):\n",
    "    for j, sentence in enumerate(sentences):\n",
    "        if word in sentence:\n",
    "            Input_Matrix[i, j] = 1\n",
    "\n",
    "Input_Matrix"
   ]
  },
  {
   "cell_type": "code",
   "execution_count": 442,
   "id": "acf3c3dd",
   "metadata": {},
   "outputs": [
    {
     "data": {
      "text/plain": [
       "array([[inf, inf, inf, inf],\n",
       "       [inf, inf, inf, inf],\n",
       "       [inf, inf, inf, inf]])"
      ]
     },
     "execution_count": 442,
     "metadata": {},
     "output_type": "execute_result"
    }
   ],
   "source": [
    "# Create a MinHash signature matrix array with inf values\n",
    "Sig_M = np.full((3, 4), np.inf)\n",
    "Sig_M"
   ]
  },
  {
   "cell_type": "code",
   "execution_count": 443,
   "id": "145bfafc",
   "metadata": {},
   "outputs": [],
   "source": [
    "# Generate hash functions\n",
    "import random\n",
    "n = len(unique_words)\n",
    "x = random.randint(1, 100)"
   ]
  },
  {
   "cell_type": "code",
   "execution_count": 444,
   "id": "3f799a86",
   "metadata": {},
   "outputs": [],
   "source": [
    "#hash_1 = random.sample(range(1, n + 1), n)\n",
    "\n",
    "hash_1 = []\n",
    "for i in range(1, n + 1):\n",
    "    hash_1.append( ( ( (i + 3) % 10 ) + 1) )"
   ]
  },
  {
   "cell_type": "code",
   "execution_count": 445,
   "id": "0f0195cc",
   "metadata": {},
   "outputs": [],
   "source": [
    "#hash_2 = random.sample(range(1, n + 1), n)\n",
    "\n",
    "hash_2 = []\n",
    "for i in range(1, n + 1):\n",
    "    hash_2.append( ( ( (7 * i + 1) % 10 ) + 1) )"
   ]
  },
  {
   "cell_type": "code",
   "execution_count": 446,
   "id": "4a3c8256",
   "metadata": {},
   "outputs": [],
   "source": [
    "#hash_3 = random.sample(range(1, n + 1), n)\n",
    "\n",
    "hash_3 = []\n",
    "for i in range(1, n + 1):\n",
    "    hash_3.append( ( ( (7 * i + 2) % 10 ) + 1) )"
   ]
  },
  {
   "cell_type": "code",
   "execution_count": 447,
   "id": "e854ba69",
   "metadata": {},
   "outputs": [],
   "source": [
    "hash_list = [hash_1, hash_2, hash_3]"
   ]
  },
  {
   "cell_type": "code",
   "execution_count": 448,
   "id": "06ed6049",
   "metadata": {},
   "outputs": [
    {
     "data": {
      "text/plain": [
       "[[5, 6, 7, 8, 9, 10, 1, 2, 3, 4],\n",
       " [9, 6, 3, 10, 7, 4, 1, 8, 5, 2],\n",
       " [10, 7, 4, 1, 8, 5, 2, 9, 6, 3]]"
      ]
     },
     "execution_count": 448,
     "metadata": {},
     "output_type": "execute_result"
    }
   ],
   "source": [
    "hash_list"
   ]
  },
  {
   "cell_type": "code",
   "execution_count": 449,
   "id": "a6218bf7",
   "metadata": {},
   "outputs": [],
   "source": [
    "## Using the hash functions and the input matrix compute the MinHash signature matrix here ##\n",
    "\n",
    "for i in range(Sig_M.shape[0]):\n",
    "    for j in range(Sig_M.shape[1]):\n",
    "        for k in range(len(unique_words)):\n",
    "            if Input_Matrix[k, j] == 1:\n",
    "                Sig_M[i, j] = min(Sig_M[i, j], hash_list[i][k])\n"
   ]
  },
  {
   "cell_type": "code",
   "execution_count": 450,
   "id": "56c9d088",
   "metadata": {},
   "outputs": [
    {
     "data": {
      "text/plain": [
       "array([[1, 2, 1, 2],\n",
       "       [1, 2, 1, 2],\n",
       "       [2, 1, 2, 3]])"
      ]
     },
     "execution_count": 450,
     "metadata": {},
     "output_type": "execute_result"
    }
   ],
   "source": [
    "# print the updated MinHash signature matrix\n",
    "\n",
    "Sig_M = Sig_M.astype(int)\n",
    "Sig_M"
   ]
  },
  {
   "cell_type": "code",
   "execution_count": 451,
   "id": "a384606f",
   "metadata": {},
   "outputs": [
    {
     "name": "stdout",
     "output_type": "stream",
     "text": [
      "Jaccard Similarity between Sentence 1 and Sentence 2 is 0.0\n",
      "Jaccard Similarity between Sentence 1 and Sentence 3 is 1.0\n",
      "Jaccard Similarity between Sentence 1 and Sentence 4 is 0.0\n",
      "Jaccard Similarity between Sentence 2 and Sentence 3 is 0.0\n",
      "Jaccard Similarity between Sentence 2 and Sentence 4 is 0.6666666666666666\n",
      "Jaccard Similarity between Sentence 3 and Sentence 4 is 0.0\n"
     ]
    }
   ],
   "source": [
    "def jaccard_similarity(Sig_M, i, j):\n",
    "    return np.sum(Sig_M[:, i] == Sig_M[:, j]) / Sig_M.shape[0]\n",
    "\n",
    "for i in range(Sig_M.shape[1]):\n",
    "    for j in range(i + 1, Sig_M.shape[1]):\n",
    "        print(f\"Jaccard Similarity between Sentence {i + 1} and Sentence {j + 1} is {jaccard_similarity(Sig_M, i, j)}\")"
   ]
  },
  {
   "cell_type": "code",
   "execution_count": null,
   "id": "a5585a3a",
   "metadata": {},
   "outputs": [],
   "source": []
  }
 ],
 "metadata": {
  "kernelspec": {
   "display_name": "myenv",
   "language": "python",
   "name": "myenv"
  },
  "language_info": {
   "codemirror_mode": {
    "name": "ipython",
    "version": 3
   },
   "file_extension": ".py",
   "mimetype": "text/x-python",
   "name": "python",
   "nbconvert_exporter": "python",
   "pygments_lexer": "ipython3",
   "version": "3.9.18"
  }
 },
 "nbformat": 4,
 "nbformat_minor": 5
}
