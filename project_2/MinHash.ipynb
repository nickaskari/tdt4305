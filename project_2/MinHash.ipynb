{
 "cells": [
  {
   "cell_type": "code",
   "execution_count": 570,
   "id": "afe94871",
   "metadata": {},
   "outputs": [],
   "source": [
    "import numpy as np\n",
    "import hashlib"
   ]
  },
  {
   "cell_type": "markdown",
   "id": "6e4f5bf9",
   "metadata": {},
   "source": [
    "Name A: Nick Askari \n",
    "\n",
    "Name B: Simen Peder Stang"
   ]
  },
  {
   "cell_type": "code",
   "execution_count": 571,
   "id": "42d4a72d",
   "metadata": {},
   "outputs": [],
   "source": [
    "#Four (4) 'relevant' TDT4305 sentences\n",
    "\n",
    "Sentence_1 = \"The Big Data platform for students is Blackboard\"\n",
    "Sentence_2 = \"Questions on MinHash project by NTNU students is on Piazza\"\n",
    "Sentence_3 = \"NTNU Big Data platform are Blackboard and Piazza\"\n",
    "Sentence_4 = \"The project data for students are on Blackboard not Piazza\""
   ]
  },
  {
   "cell_type": "code",
   "execution_count": 572,
   "id": "f619be36",
   "metadata": {},
   "outputs": [],
   "source": [
    "# Enter the unique words list here, alphabetically sorted\n",
    "unique_words = ['big', 'blackboard', 'data', 'minhash', 'ntnu', 'piazza', 'platform', 'project', 'questions', 'students']"
   ]
  },
  {
   "cell_type": "code",
   "execution_count": 573,
   "id": "e633fa9c",
   "metadata": {},
   "outputs": [
    {
     "name": "stdout",
     "output_type": "stream",
     "text": [
      "Format: ['word', 'word', 'word' ...] & watch out for white spaces before comma\n",
      "Incorrect! Try again.\n"
     ]
    }
   ],
   "source": [
    "# User input\n",
    "\n",
    "print(f\"Format: ['word', 'word', 'word' ...] & watch out for white spaces before comma\")\n",
    "user_input = str(input(\"Enter your created list of unique words: \")) \n",
    "\n",
    "f = open(\"encrypted_dictionary.txt\", \"r\")\n",
    "encrypted_words = f.read()\n",
    "\n",
    "\n",
    "# Hash the user input\n",
    "hashed_user_input = hashlib.sha256(user_input.encode()).hexdigest()\n",
    "\n",
    "# Compare with the stored hash\n",
    "if hashed_user_input == encrypted_words:\n",
    "    print(\"Correct! Your dictionary matched!\")\n",
    "else:\n",
    "    print(\"Incorrect! Try again.\")"
   ]
  },
  {
   "cell_type": "code",
   "execution_count": 574,
   "id": "0b10d096",
   "metadata": {},
   "outputs": [],
   "source": [
    "# Create an empty array of input matrix\n",
    "Input_Matrix = np.zeros((len(unique_words), 4), dtype=int)"
   ]
  },
  {
   "cell_type": "code",
   "execution_count": 575,
   "id": "8b7267f5",
   "metadata": {},
   "outputs": [
    {
     "data": {
      "text/plain": [
       "array([[1, 0, 1, 0],\n",
       "       [1, 0, 1, 1],\n",
       "       [1, 0, 1, 1],\n",
       "       [0, 1, 0, 0],\n",
       "       [0, 1, 1, 0],\n",
       "       [0, 1, 1, 1],\n",
       "       [1, 0, 1, 0],\n",
       "       [0, 1, 0, 1],\n",
       "       [0, 1, 0, 0],\n",
       "       [1, 1, 0, 1]])"
      ]
     },
     "execution_count": 575,
     "metadata": {},
     "output_type": "execute_result"
    }
   ],
   "source": [
    "## Compute the values for the input matrix here ##\n",
    "#NB: gets different order from overleaf due to alphabetical oredring of words\n",
    "\n",
    "Sentence_1, Sentence_2, Sentence_3, Sentence_4 = [sentence.lower()\n",
    "                                                   for sentence in [Sentence_1, Sentence_2, Sentence_3, Sentence_4]]\n",
    "\n",
    "sentences = [Sentence_1, Sentence_2, Sentence_3, Sentence_4]\n",
    "for i, word in enumerate(unique_words):\n",
    "    for j, sentence in enumerate(sentences):\n",
    "        if word in sentence:\n",
    "            Input_Matrix[i, j] = 1\n",
    "\n",
    "Input_Matrix"
   ]
  },
  {
   "cell_type": "code",
   "execution_count": 576,
   "id": "acf3c3dd",
   "metadata": {},
   "outputs": [
    {
     "data": {
      "text/plain": [
       "array([[inf, inf, inf, inf],\n",
       "       [inf, inf, inf, inf],\n",
       "       [inf, inf, inf, inf]])"
      ]
     },
     "execution_count": 576,
     "metadata": {},
     "output_type": "execute_result"
    }
   ],
   "source": [
    "# Create a MinHash signature matrix array with inf values\n",
    "Sig_M = np.full((3, 4), np.inf)\n",
    "Sig_M"
   ]
  },
  {
   "cell_type": "code",
   "execution_count": 577,
   "id": "145bfafc",
   "metadata": {},
   "outputs": [],
   "source": [
    "# Generate hash functions\n",
    "import random\n",
    "n = len(unique_words)"
   ]
  },
  {
   "cell_type": "code",
   "execution_count": 578,
   "id": "3f799a86",
   "metadata": {},
   "outputs": [],
   "source": [
    "hash_1 = random.sample(range(1, n + 1), n)"
   ]
  },
  {
   "cell_type": "code",
   "execution_count": 579,
   "id": "0f0195cc",
   "metadata": {},
   "outputs": [],
   "source": [
    "hash_2 = random.sample(range(1, n + 1), n)"
   ]
  },
  {
   "cell_type": "code",
   "execution_count": 580,
   "id": "4a3c8256",
   "metadata": {},
   "outputs": [],
   "source": [
    "hash_3 = random.sample(range(1, n + 1), n)"
   ]
  },
  {
   "cell_type": "code",
   "execution_count": 581,
   "id": "e854ba69",
   "metadata": {},
   "outputs": [],
   "source": [
    "hash_list = [hash_1, hash_2, hash_3]"
   ]
  },
  {
   "cell_type": "code",
   "execution_count": 582,
   "id": "06ed6049",
   "metadata": {},
   "outputs": [
    {
     "data": {
      "text/plain": [
       "[[4, 2, 10, 8, 9, 6, 5, 7, 1, 3],\n",
       " [5, 9, 6, 1, 7, 10, 3, 2, 8, 4],\n",
       " [3, 10, 9, 5, 6, 8, 4, 1, 7, 2]]"
      ]
     },
     "execution_count": 582,
     "metadata": {},
     "output_type": "execute_result"
    }
   ],
   "source": [
    "hash_list"
   ]
  },
  {
   "cell_type": "code",
   "execution_count": 583,
   "id": "a6218bf7",
   "metadata": {},
   "outputs": [],
   "source": [
    "## Using the hash functions and the input matrix compute the MinHash signature matrix here ##\n",
    "\n",
    "for i in range(Sig_M.shape[0]):\n",
    "    for j in range(Sig_M.shape[1]):\n",
    "        for k in range(len(unique_words)):\n",
    "            if Input_Matrix[k, j] == 1:\n",
    "                Sig_M[i, j] = min(Sig_M[i, j], hash_list[i][k])\n"
   ]
  },
  {
   "cell_type": "code",
   "execution_count": 584,
   "id": "56c9d088",
   "metadata": {},
   "outputs": [
    {
     "data": {
      "text/plain": [
       "array([[2, 1, 2, 2],\n",
       "       [3, 1, 3, 2],\n",
       "       [2, 1, 3, 1]])"
      ]
     },
     "execution_count": 584,
     "metadata": {},
     "output_type": "execute_result"
    }
   ],
   "source": [
    "# print the updated MinHash signature matrix\n",
    "\n",
    "Sig_M = Sig_M.astype(int)\n",
    "Sig_M"
   ]
  },
  {
   "cell_type": "code",
   "execution_count": null,
   "id": "a384606f",
   "metadata": {},
   "outputs": [],
   "source": []
  }
 ],
 "metadata": {
  "kernelspec": {
   "display_name": "myenv",
   "language": "python",
   "name": "myenv"
  },
  "language_info": {
   "codemirror_mode": {
    "name": "ipython",
    "version": 3
   },
   "file_extension": ".py",
   "mimetype": "text/x-python",
   "name": "python",
   "nbconvert_exporter": "python",
   "pygments_lexer": "ipython3",
   "version": "3.9.18"
  }
 },
 "nbformat": 4,
 "nbformat_minor": 5
}
